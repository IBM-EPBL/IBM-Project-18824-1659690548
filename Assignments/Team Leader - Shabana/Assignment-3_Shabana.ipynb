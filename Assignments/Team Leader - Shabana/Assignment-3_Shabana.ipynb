{
 "cells": [
  {
   "cell_type": "markdown",
   "id": "ccde632f",
   "metadata": {},
   "source": [
    "# **Assignment-3**\n",
    "## **Abalone Age Prediction**\n"
   ]
  },
  {
   "cell_type": "code",
   "execution_count": 1,
   "id": "8ea6d448",
   "metadata": {},
   "outputs": [],
   "source": [
    "#importing the necesary libraries\n",
    "\n",
    "import numpy as np\n",
    "import pandas as pd\n",
    "import matplotlib.pyplot as plt\n",
    "%matplotlib inline\n",
    "import seaborn as sns"
   ]
  },
  {
   "cell_type": "code",
   "execution_count": null,
   "id": "25efe2e7",
   "metadata": {},
   "outputs": [],
   "source": [
    "df = pd.read_csv('/abalone.csv')"
   ]
  },
  {
   "cell_type": "code",
   "execution_count": null,
   "id": "daf62b9b",
   "metadata": {},
   "outputs": [],
   "source": []
  },
  {
   "cell_type": "code",
   "execution_count": null,
   "id": "00edad75",
   "metadata": {},
   "outputs": [],
   "source": []
  },
  {
   "cell_type": "code",
   "execution_count": null,
   "id": "fb197ffa",
   "metadata": {},
   "outputs": [],
   "source": []
  },
  {
   "cell_type": "code",
   "execution_count": null,
   "id": "8ec21183",
   "metadata": {},
   "outputs": [],
   "source": []
  },
  {
   "cell_type": "code",
   "execution_count": null,
   "id": "8a53c2a9",
   "metadata": {},
   "outputs": [],
   "source": []
  },
  {
   "cell_type": "code",
   "execution_count": null,
   "id": "355fc15c",
   "metadata": {},
   "outputs": [],
   "source": []
  }
 ],
 "metadata": {
  "kernelspec": {
   "display_name": "Python 3 (ipykernel)",
   "language": "python",
   "name": "python3"
  },
  "language_info": {
   "codemirror_mode": {
    "name": "ipython",
    "version": 3
   },
   "file_extension": ".py",
   "mimetype": "text/x-python",
   "name": "python",
   "nbconvert_exporter": "python",
   "pygments_lexer": "ipython3",
   "version": "3.9.12"
  }
 },
 "nbformat": 4,
 "nbformat_minor": 5
}
